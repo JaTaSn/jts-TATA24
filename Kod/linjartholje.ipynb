{
 "cells": [
  {
   "cell_type": "markdown",
   "id": "c0c9a13f-abdf-4330-bc74-8a7d081b17aa",
   "metadata": {},
   "source": [
    "# Beräkning av linjärt hölje och linjärt oberoende"
   ]
  },
  {
   "cell_type": "code",
   "execution_count": 18,
   "id": "b62b795c-cbbd-4c05-8afb-ed3049511b29",
   "metadata": {},
   "outputs": [],
   "source": [
    "S.<x1,x2,x3,x4,x5,x6> = QQ[]\n",
    "T = S.fraction_field()\n",
    "R6 = VectorSpace(T, 6)"
   ]
  },
  {
   "cell_type": "markdown",
   "id": "1a286ce9-5ba9-4d3a-9d85-5c719cc9a9e4",
   "metadata": {},
   "source": [
    "### Delrum till $\\mathbf{R}^6$"
   ]
  },
  {
   "cell_type": "code",
   "execution_count": 47,
   "id": "958e3a71-5e32-4f12-8ef1-539ddc32bbad",
   "metadata": {},
   "outputs": [
    {
     "data": {
      "text/plain": [
       "(3,\n",
       " [\n",
       " (1, 0, 0, -1, -1, -2),\n",
       " (0, 1, 0, 1, 0, 1),\n",
       " (0, 0, 1, 1, 2, 2)\n",
       " ])"
      ]
     },
     "execution_count": 47,
     "metadata": {},
     "output_type": "execute_result"
    }
   ],
   "source": [
    "v1 = vector([1,1,1,1,1,1])\n",
    "v2 = vector([1,0,1,0,1,0])\n",
    "v3 = vector([1,2,3,4,5,6])\n",
    "v4 = v1 + 2*v2 -3*v3 \n",
    "V = R6.subspace([v1,v2,v3,v4])\n",
    "V.dimension(),V.basis()"
   ]
  },
  {
   "cell_type": "markdown",
   "id": "d1ffc367-487e-45a4-b8ef-72342389a41b",
   "metadata": {},
   "source": [
    "#### Beräkna villkor för att ligga i V, samt linjära relationer mellan $v_j$"
   ]
  },
  {
   "cell_type": "code",
   "execution_count": 48,
   "id": "ecd87f7c-2760-43ab-9d39-c7a9a260307c",
   "metadata": {},
   "outputs": [
    {
     "data": {
      "text/plain": [
       "(x1, x2, x3, x4, x5, x6)"
      ]
     },
     "execution_count": 48,
     "metadata": {},
     "output_type": "execute_result"
    }
   ],
   "source": [
    "varicol=vector(S.gens())\n",
    "varicol"
   ]
  },
  {
   "cell_type": "code",
   "execution_count": 56,
   "id": "28b2410c-7463-4bd1-9397-c231e53e4539",
   "metadata": {},
   "outputs": [
    {
     "data": {
      "text/plain": [
       "(\n",
       "[  1   1   1   0]  [  1   1   1   0   0  x1]\n",
       "[  1   0   2  -5]  [  1   0   2  -5   0  x2]\n",
       "[  1   1   3  -6]  [  1   1   3  -6   0  x3]\n",
       "[  1   0   4 -11]  [  1   0   4 -11   0  x4]\n",
       "[  1   1   5 -12]  [  1   1   5 -12   0  x5]\n",
       "[  1   0   6 -17], [  1   0   6 -17   0  x6]\n",
       ")"
      ]
     },
     "execution_count": 56,
     "metadata": {},
     "output_type": "execute_result"
    }
   ],
   "source": [
    "zerocol = V([0 for _ in range(6)])\n",
    "A = matrix(ZZ,[v1,v2,v3,v4]).transpose()\n",
    "B = matrix(S,[v1,v2,v3,v4,zerocol,varicol]).transpose()\n",
    "A,B"
   ]
  },
  {
   "cell_type": "code",
   "execution_count": 59,
   "id": "5eaa4958-7f5f-4657-a645-6b0d3d18a276",
   "metadata": {},
   "outputs": [
    {
     "data": {
      "text/html": [
       "<html>\\(\\displaystyle \\left(\\begin{array}{rrrrrr}\n",
       "1 & 0 & 0 & 1 & 0 & 3 x_{4} - 2 x_{6} \\\\\n",
       "0 & 1 & 1 & -1 & 0 & -x_{4} + x_{5} \\\\\n",
       "0 & 0 & 2 & -6 & 0 & -x_{4} + x_{6} \\\\\n",
       "0 & 0 & 0 & 0 & 0 & x_{1} - 2 x_{4} - x_{5} + 2 x_{6} \\\\\n",
       "0 & 0 & 0 & 0 & 0 & x_{2} - 2 x_{4} + x_{6} \\\\\n",
       "0 & 0 & 0 & 0 & 0 & x_{3} - x_{4} - x_{5} + x_{6}\n",
       "\\end{array}\\right)\\)</html>"
      ],
      "text/latex": [
       "$\\displaystyle \\left(\\begin{array}{rrrrrr}\n",
       "1 & 0 & 0 & 1 & 0 & 3 x_{4} - 2 x_{6} \\\\\n",
       "0 & 1 & 1 & -1 & 0 & -x_{4} + x_{5} \\\\\n",
       "0 & 0 & 2 & -6 & 0 & -x_{4} + x_{6} \\\\\n",
       "0 & 0 & 0 & 0 & 0 & x_{1} - 2 x_{4} - x_{5} + 2 x_{6} \\\\\n",
       "0 & 0 & 0 & 0 & 0 & x_{2} - 2 x_{4} + x_{6} \\\\\n",
       "0 & 0 & 0 & 0 & 0 & x_{3} - x_{4} - x_{5} + x_{6}\n",
       "\\end{array}\\right)$"
      ],
      "text/plain": [
       "[                    1                     0                     0                     1                     0           3*x4 - 2*x6]\n",
       "[                    0                     1                     1                    -1                     0              -x4 + x5]\n",
       "[                    0                     0                     2                    -6                     0              -x4 + x6]\n",
       "[                    0                     0                     0                     0                     0 x1 - 2*x4 - x5 + 2*x6]\n",
       "[                    0                     0                     0                     0                     0        x2 - 2*x4 + x6]\n",
       "[                    0                     0                     0                     0                     0     x3 - x4 - x5 + x6]"
      ]
     },
     "metadata": {},
     "output_type": "display_data"
    }
   ],
   "source": [
    "U, V = A.echelon_form(transformation=True)\n",
    "show(V*B)"
   ]
  },
  {
   "cell_type": "code",
   "execution_count": 65,
   "id": "8f2866e0-d0bf-4c0e-962c-bd905ca610c9",
   "metadata": {},
   "outputs": [
    {
     "data": {
      "text/plain": [
       "[x1 - 2*x4 - x5 + 2*x6]\n",
       "[       x2 - 2*x4 + x6]\n",
       "[    x3 - x4 - x5 + x6]"
      ]
     },
     "execution_count": 65,
     "metadata": {},
     "output_type": "execute_result"
    }
   ],
   "source": [
    "conditions = (V*B)[3:6,5]\n",
    "conditions"
   ]
  },
  {
   "cell_type": "markdown",
   "id": "58632596-7c3e-4ee1-b335-85ebf6bc8678",
   "metadata": {},
   "source": [
    "## Delrum till $R^6$ variant två"
   ]
  },
  {
   "cell_type": "code",
   "execution_count": 67,
   "id": "d4a43544-c1af-4601-9995-90c8693f514e",
   "metadata": {},
   "outputs": [
    {
     "data": {
      "text/plain": [
       "(3,\n",
       " [\n",
       " (1, 0, 0, -1, -1, -2),\n",
       " (0, 1, 0, 1, 0, 1),\n",
       " (0, 0, 1, 1, 2, 2)\n",
       " ])"
      ]
     },
     "execution_count": 67,
     "metadata": {},
     "output_type": "execute_result"
    }
   ],
   "source": [
    "R6 = VectorSpace(QQ, 6)\n",
    "v1 = vector([1,1,1,1,1,1])\n",
    "v2 = vector([1,0,1,0,1,0])\n",
    "v3 = vector([1,2,3,4,5,6])\n",
    "v4 = v1 + 2*v2 -3*v3 \n",
    "V = R6.subspace([v1,v2,v3,v4])\n",
    "V.dimension(),V.basis()"
   ]
  },
  {
   "cell_type": "code",
   "execution_count": 72,
   "id": "5ed852ff-4f11-44ad-8cc4-25d5a06d4a42",
   "metadata": {},
   "outputs": [
    {
     "data": {
      "text/plain": [
       "[  1   1   1   0|  1   0   0   0   0   0]\n",
       "[  1   0   2  -5|  0   1   0   0   0   0]\n",
       "[  1   1   3  -6|  0   0   1   0   0   0]\n",
       "[  1   0   4 -11|  0   0   0   1   0   0]\n",
       "[  1   1   5 -12|  0   0   0   0   1   0]\n",
       "[  1   0   6 -17|  0   0   0   0   0   1]"
      ]
     },
     "execution_count": 72,
     "metadata": {},
     "output_type": "execute_result"
    }
   ],
   "source": [
    "A = matrix(QQ,[v1,v2,v3,v4]).transpose()\n",
    "B = A.augment(identity_matrix(6), subdivide=True)\n",
    "B"
   ]
  },
  {
   "cell_type": "code",
   "execution_count": 73,
   "id": "2d423646-44a8-4783-bc3f-b31b8cd217d3",
   "metadata": {},
   "outputs": [
    {
     "data": {
      "text/plain": [
       "[   1    0    0    1|   0    0    0    3    0   -2]\n",
       "[   0    1    0    2|   0    0    0 -1/2    1 -1/2]\n",
       "[   0    0    1   -3|   0    0    0 -1/2    0  1/2]\n",
       "[   0    0    0    0|   1    0    0   -2   -1    2]\n",
       "[   0    0    0    0|   0    1    0   -2    0    1]\n",
       "[   0    0    0    0|   0    0    1   -1   -1    1]"
      ]
     },
     "execution_count": 73,
     "metadata": {},
     "output_type": "execute_result"
    }
   ],
   "source": [
    "B.rref()"
   ]
  },
  {
   "cell_type": "code",
   "execution_count": 74,
   "id": "48666dc9-29f3-4d52-bc4c-0db127366e91",
   "metadata": {},
   "outputs": [
    {
     "data": {
      "text/plain": [
       "True"
      ]
     },
     "execution_count": 74,
     "metadata": {},
     "output_type": "execute_result"
    }
   ],
   "source": [
    "# pivotelement i kol 1,2,3\n",
    "# alltså bas v1,v2,v3 för V\n",
    "W = R6.subspace([v1,v2,v3])\n",
    "W == V"
   ]
  },
  {
   "cell_type": "code",
   "execution_count": 75,
   "id": "46e62cca-87cc-4bf0-9ff1-6428510d8a2d",
   "metadata": {},
   "outputs": [
    {
     "data": {
      "text/plain": [
       "Vector space of degree 4 and dimension 1 over Rational Field\n",
       "Basis matrix:\n",
       "[ 1  2 -3 -1]"
      ]
     },
     "execution_count": 75,
     "metadata": {},
     "output_type": "execute_result"
    }
   ],
   "source": [
    "# Linjära samband mellan v1,v2,v3,v4 ges av\n",
    "# (c1,c2,c3,c4) med c4 = t, c3 = 3t, c2 = -2t, c1 = -t\n",
    "# t=-1 ger (c1,c2,c3,c4) = (1,2,3,-1)\n",
    "A.right_kernel()"
   ]
  },
  {
   "cell_type": "code",
   "execution_count": 89,
   "id": "f2de0d74-1b0a-4553-b6fb-a456e26202e4",
   "metadata": {},
   "outputs": [
    {
     "data": {
      "text/plain": [
       "[ 1  0  0 -2 -1  2]\n",
       "[ 0  1  0 -2  0  1]\n",
       "[ 0  0  1 -1 -1  1]"
      ]
     },
     "execution_count": 89,
     "metadata": {},
     "output_type": "execute_result"
    }
   ],
   "source": [
    "# V som lösningsrum ges av följande ekvationer\n",
    "C=(B.rref()[3:6]).matrix_from_columns([4,5,6,7,8,9])\n",
    "C"
   ]
  },
  {
   "cell_type": "code",
   "execution_count": 91,
   "id": "8078ed1b-c742-4548-be27-b18f73d44da4",
   "metadata": {},
   "outputs": [
    {
     "data": {
      "text/plain": [
       "True"
      ]
     },
     "execution_count": 91,
     "metadata": {},
     "output_type": "execute_result"
    }
   ],
   "source": [
    "C.right_kernel() == V"
   ]
  },
  {
   "cell_type": "code",
   "execution_count": null,
   "id": "8b1f24c1-ec16-4e50-8efb-905c580e920d",
   "metadata": {},
   "outputs": [],
   "source": []
  }
 ],
 "metadata": {
  "kernelspec": {
   "display_name": "SageMath 10.4",
   "language": "sage",
   "name": "sagemath"
  },
  "language_info": {
   "codemirror_mode": {
    "name": "ipython",
    "version": 3
   },
   "file_extension": ".py",
   "mimetype": "text/x-python",
   "name": "python",
   "nbconvert_exporter": "python",
   "pygments_lexer": "ipython3",
   "version": "3.12.5"
  }
 },
 "nbformat": 4,
 "nbformat_minor": 5
}
