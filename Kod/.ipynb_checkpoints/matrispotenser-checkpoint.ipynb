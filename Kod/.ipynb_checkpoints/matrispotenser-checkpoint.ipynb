{
 "cells": [
  {
   "cell_type": "markdown",
   "id": "2d759996-46b1-4750-9861-07a2b1135b12",
   "metadata": {},
   "source": [
    "# Matrispotenser"
   ]
  },
  {
   "cell_type": "markdown",
   "id": "75312e84-e80f-401e-8fad-baec075336ed",
   "metadata": {},
   "source": [
    "## Beräkning av potenser av kvadratisk matris"
   ]
  },
  {
   "cell_type": "code",
   "execution_count": null,
   "id": "87c06800-5bf0-4823-a990-b760c9f0842d",
   "metadata": {},
   "outputs": [],
   "source": []
  }
 ],
 "metadata": {
  "kernelspec": {
   "display_name": "Python 3 (ipykernel)",
   "language": "python",
   "name": "python3"
  },
  "language_info": {
   "codemirror_mode": {
    "name": "ipython",
    "version": 3
   },
   "file_extension": ".py",
   "mimetype": "text/x-python",
   "name": "python",
   "nbconvert_exporter": "python",
   "pygments_lexer": "ipython3",
   "version": "3.13.0"
  }
 },
 "nbformat": 4,
 "nbformat_minor": 5
}
