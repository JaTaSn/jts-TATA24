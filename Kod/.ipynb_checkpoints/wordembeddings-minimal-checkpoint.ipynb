{
 "cells": [
  {
   "cell_type": "markdown",
   "id": "d45e195c-6f2e-4915-8600-9725c007c17f",
   "metadata": {},
   "source": [
    "# Word embeddings using gensim"
   ]
  },
  {
   "cell_type": "markdown",
   "id": "1fa5b34f-ae8d-4a88-8120-eda3454eba70",
   "metadata": {},
   "source": [
    "<a target=\"_blank\" href=\"https://colab.research.google.com/github/JaTaSn/jts-TATA24/blob/main/Kod/wordembeddings.ipynb\">\n",
    "  <img src=\"https://colab.research.google.com/assets/colab-badge.svg\" alt=\"Open In Colab\"/>\n",
    "</a>"
   ]
  },
  {
   "cell_type": "markdown",
   "id": "bba3a877-4b15-4df6-81a4-8c3dacf41378",
   "metadata": {},
   "source": [
    "## Loading the model"
   ]
  },
  {
   "cell_type": "code",
   "execution_count": 16,
   "id": "20d10adc-a575-4df9-8525-3b1a2bee0b53",
   "metadata": {},
   "outputs": [],
   "source": [
    "# first install gensim e.g. via \"mamba install gensim\"\n",
    "# or \"pip install gensim\"\n",
    "# similarly for numpy and matplotlib"
   ]
  },
  {
   "cell_type": "markdown",
   "id": "7ce13ff1-1a3e-4bc1-a41b-f0b0091a5178",
   "metadata": {},
   "source": [
    "### Import python libraries"
   ]
  },
  {
   "cell_type": "code",
   "execution_count": 1,
   "id": "682056f1-aee3-4674-bcb0-da8f7c8de3f0",
   "metadata": {},
   "outputs": [],
   "source": [
    "import numpy as np\n",
    "import math\n",
    "import gensim.downloader as api\n",
    "import matplotlib.pyplot as plt"
   ]
  },
  {
   "cell_type": "code",
   "execution_count": null,
   "id": "8bd13bd6-5828-4829-b35e-4dcf3893af62",
   "metadata": {},
   "outputs": [],
   "source": []
  },
  {
   "cell_type": "markdown",
   "id": "681a2031-da9d-4a51-b75b-26b4a610666c",
   "metadata": {},
   "source": [
    "### Load the ready-made model"
   ]
  },
  {
   "cell_type": "code",
   "execution_count": 2,
   "id": "997bf2d5-08ec-46cb-91a0-65aa7a44bbab",
   "metadata": {
    "scrolled": true
   },
   "outputs": [],
   "source": [
    "# load dataset/model \n",
    "# see https://github.com/piskvorky/gensim-data\n",
    "# for choice of model\n",
    "# Note that word2vec-google-news-300 is very large and loads slowly\n",
    "# but is perhaps a more accurate depiction of the english language\n",
    "\n",
    "embedd = api.load('glove-wiki-gigaword-50')\n",
    "# embedd = api.load('glove-twitter-25')\n",
    "# embedd = api.load('word2vec-google-news-300')"
   ]
  },
  {
   "cell_type": "markdown",
   "id": "5a3f2349-a336-4ec2-b9cb-2a75168b5de6",
   "metadata": {},
   "source": [
    "### Remove junk words from models"
   ]
  },
  {
   "cell_type": "code",
   "execution_count": 3,
   "id": "fabff17c-855c-4e46-b8e3-8633eeeabedc",
   "metadata": {},
   "outputs": [],
   "source": [
    "def restrict_embedd(w2v, restricted_word_set=[], min_word_length=2, max_word_length=10):\n",
    "    new_index_to_key = []\n",
    "    new_key_to_index = {}\n",
    "    new_vectors = []\n",
    "    for ind, word in enumerate(w2v.index_to_key):\n",
    "        if (not word in restricted_word_set) and len(word) >= min_word_length and len(word) <= max_word_length:\n",
    "            new_key_to_index[word] = len(new_index_to_key)\n",
    "            new_index_to_key.append(word)\n",
    "            new_vectors.append(w2v.vectors[ind])\n",
    "    w2v.index_to_key = new_index_to_key\n",
    "    w2v.key_to_index = new_key_to_index\n",
    "    w2v.vectors = np.array(new_vectors)\n",
    "\n",
    "\n",
    "badwords = [\"'s\", \"''\", \"``\", \"--\", \"n't\", \"u.s.\", \"ii\", \"(970)\"]\n",
    "restrict_embedd(embedd, restricted_word_set=badwords)            "
   ]
  },
  {
   "cell_type": "markdown",
   "id": "8ffdf3d1-a29f-4068-81d9-1d21f30349ce",
   "metadata": {},
   "source": [
    "### List the most frequent words"
   ]
  },
  {
   "cell_type": "code",
   "execution_count": 4,
   "id": "216d01d1-f123-4440-94ad-56accda0d124",
   "metadata": {},
   "outputs": [
    {
     "name": "stdout",
     "output_type": "stream",
     "text": [
      "The database contains (after pruning) 350793 words.\n",
      "The 200 most common ones are: \n",
      "\n",
      "word #0/350793 is the\n",
      "word #1/350793 is of\n",
      "word #2/350793 is to\n",
      "word #3/350793 is and\n",
      "word #4/350793 is in\n",
      "word #5/350793 is for\n",
      "word #6/350793 is that\n",
      "word #7/350793 is on\n",
      "word #8/350793 is is\n",
      "word #9/350793 is was\n",
      "word #10/350793 is said\n",
      "word #11/350793 is with\n",
      "word #12/350793 is he\n",
      "word #13/350793 is as\n",
      "word #14/350793 is it\n",
      "word #15/350793 is by\n",
      "word #16/350793 is at\n",
      "word #17/350793 is from\n",
      "word #18/350793 is his\n",
      "word #19/350793 is an\n",
      "word #20/350793 is be\n",
      "word #21/350793 is has\n",
      "word #22/350793 is are\n",
      "word #23/350793 is have\n",
      "word #24/350793 is but\n",
      "word #25/350793 is were\n",
      "word #26/350793 is not\n",
      "word #27/350793 is this\n",
      "word #28/350793 is who\n",
      "word #29/350793 is they\n",
      "word #30/350793 is had\n",
      "word #31/350793 is which\n",
      "word #32/350793 is will\n",
      "word #33/350793 is their\n",
      "word #34/350793 is or\n",
      "word #35/350793 is its\n",
      "word #36/350793 is one\n",
      "word #37/350793 is after\n",
      "word #38/350793 is new\n",
      "word #39/350793 is been\n",
      "word #40/350793 is also\n",
      "word #41/350793 is we\n",
      "word #42/350793 is would\n",
      "word #43/350793 is two\n",
      "word #44/350793 is more\n",
      "word #45/350793 is first\n",
      "word #46/350793 is about\n",
      "word #47/350793 is up\n",
      "word #48/350793 is when\n",
      "word #49/350793 is year\n",
      "word #50/350793 is there\n",
      "word #51/350793 is all\n",
      "word #52/350793 is out\n",
      "word #53/350793 is she\n",
      "word #54/350793 is other\n",
      "word #55/350793 is people\n",
      "word #56/350793 is her\n",
      "word #57/350793 is percent\n",
      "word #58/350793 is than\n",
      "word #59/350793 is over\n",
      "word #60/350793 is into\n",
      "word #61/350793 is last\n",
      "word #62/350793 is some\n",
      "word #63/350793 is government\n",
      "word #64/350793 is time\n",
      "word #65/350793 is you\n",
      "word #66/350793 is years\n",
      "word #67/350793 is if\n",
      "word #68/350793 is no\n",
      "word #69/350793 is world\n",
      "word #70/350793 is can\n",
      "word #71/350793 is three\n",
      "word #72/350793 is do\n",
      "word #73/350793 is president\n",
      "word #74/350793 is only\n",
      "word #75/350793 is state\n",
      "word #76/350793 is million\n",
      "word #77/350793 is could\n",
      "word #78/350793 is us\n",
      "word #79/350793 is most\n",
      "word #80/350793 is against\n",
      "word #81/350793 is so\n",
      "word #82/350793 is them\n",
      "word #83/350793 is what\n",
      "word #84/350793 is him\n",
      "word #85/350793 is united\n",
      "word #86/350793 is during\n",
      "word #87/350793 is before\n",
      "word #88/350793 is may\n",
      "word #89/350793 is since\n",
      "word #90/350793 is many\n",
      "word #91/350793 is while\n",
      "word #92/350793 is where\n",
      "word #93/350793 is states\n",
      "word #94/350793 is because\n",
      "word #95/350793 is now\n",
      "word #96/350793 is city\n",
      "word #97/350793 is made\n",
      "word #98/350793 is like\n",
      "word #99/350793 is between\n",
      "word #100/350793 is did\n",
      "word #101/350793 is just\n",
      "word #102/350793 is national\n",
      "word #103/350793 is day\n",
      "word #104/350793 is country\n",
      "word #105/350793 is under\n",
      "word #106/350793 is such\n",
      "word #107/350793 is second\n",
      "word #108/350793 is then\n",
      "word #109/350793 is company\n",
      "word #110/350793 is group\n",
      "word #111/350793 is any\n",
      "word #112/350793 is through\n",
      "word #113/350793 is china\n",
      "word #114/350793 is four\n",
      "word #115/350793 is being\n",
      "word #116/350793 is down\n",
      "word #117/350793 is war\n",
      "word #118/350793 is back\n",
      "word #119/350793 is off\n",
      "word #120/350793 is south\n",
      "word #121/350793 is american\n",
      "word #122/350793 is minister\n",
      "word #123/350793 is police\n",
      "word #124/350793 is well\n",
      "word #125/350793 is including\n",
      "word #126/350793 is team\n",
      "word #127/350793 is week\n",
      "word #128/350793 is officials\n",
      "word #129/350793 is still\n",
      "word #130/350793 is both\n",
      "word #131/350793 is even\n",
      "word #132/350793 is high\n",
      "word #133/350793 is part\n",
      "word #134/350793 is told\n",
      "word #135/350793 is those\n",
      "word #136/350793 is end\n",
      "word #137/350793 is former\n",
      "word #138/350793 is these\n",
      "word #139/350793 is make\n",
      "word #140/350793 is billion\n",
      "word #141/350793 is work\n",
      "word #142/350793 is our\n",
      "word #143/350793 is home\n",
      "word #144/350793 is school\n",
      "word #145/350793 is party\n",
      "word #146/350793 is house\n",
      "word #147/350793 is old\n",
      "word #148/350793 is later\n",
      "word #149/350793 is get\n",
      "word #150/350793 is another\n",
      "word #151/350793 is tuesday\n",
      "word #152/350793 is news\n",
      "word #153/350793 is long\n",
      "word #154/350793 is five\n",
      "word #155/350793 is called\n",
      "word #156/350793 is wednesday\n",
      "word #157/350793 is military\n",
      "word #158/350793 is way\n",
      "word #159/350793 is used\n",
      "word #160/350793 is much\n",
      "word #161/350793 is next\n",
      "word #162/350793 is monday\n",
      "word #163/350793 is thursday\n",
      "word #164/350793 is friday\n",
      "word #165/350793 is game\n",
      "word #166/350793 is here\n",
      "word #167/350793 is should\n",
      "word #168/350793 is take\n",
      "word #169/350793 is very\n",
      "word #170/350793 is my\n",
      "word #171/350793 is north\n",
      "word #172/350793 is security\n",
      "word #173/350793 is season\n",
      "word #174/350793 is york\n",
      "word #175/350793 is how\n",
      "word #176/350793 is public\n",
      "word #177/350793 is early\n",
      "word #178/350793 is according\n",
      "word #179/350793 is several\n",
      "word #180/350793 is court\n",
      "word #181/350793 is say\n",
      "word #182/350793 is around\n",
      "word #183/350793 is foreign\n",
      "word #184/350793 is 10\n",
      "word #185/350793 is until\n",
      "word #186/350793 is set\n",
      "word #187/350793 is political\n",
      "word #188/350793 is says\n",
      "word #189/350793 is market\n",
      "word #190/350793 is however\n",
      "word #191/350793 is family\n",
      "word #192/350793 is life\n",
      "word #193/350793 is same\n",
      "word #194/350793 is general\n",
      "word #195/350793 is left\n",
      "word #196/350793 is good\n",
      "word #197/350793 is top\n",
      "word #198/350793 is university\n",
      "word #199/350793 is going\n"
     ]
    }
   ],
   "source": [
    "# most common words\n",
    "\n",
    "NWORDS=len(embedd)\n",
    "N = 200\n",
    "print(f'The database contains (after pruning) {NWORDS} words.')\n",
    "print(f'The {N} most common ones are: \\n')\n",
    "for index, word in enumerate(embedd.index_to_key):\n",
    "    if index == N:\n",
    "        break\n",
    "    print(f\"word #{index}/{len(embedd.index_to_key)} is {word}\")\n"
   ]
  },
  {
   "cell_type": "code",
   "execution_count": null,
   "id": "995d0c66-02e6-424c-874f-69846760f9ca",
   "metadata": {},
   "outputs": [],
   "source": []
  },
  {
   "cell_type": "code",
   "execution_count": null,
   "id": "b2517634-05a0-433c-8154-e95b4a2acd6d",
   "metadata": {},
   "outputs": [],
   "source": []
  },
  {
   "cell_type": "code",
   "execution_count": null,
   "id": "797d807a-ee52-4018-8d57-80f7d48b51b3",
   "metadata": {},
   "outputs": [],
   "source": []
  },
  {
   "cell_type": "code",
   "execution_count": null,
   "id": "0a8308e3-5501-4c40-9a61-63b0a4d4d520",
   "metadata": {},
   "outputs": [],
   "source": []
  },
  {
   "cell_type": "code",
   "execution_count": null,
   "id": "864c6a17-c5bd-4a7a-92fa-3ea958a1e840",
   "metadata": {},
   "outputs": [],
   "source": []
  },
  {
   "cell_type": "code",
   "execution_count": null,
   "id": "2c1283e5-6ed0-4abb-b131-c08513137c7d",
   "metadata": {},
   "outputs": [],
   "source": []
  },
  {
   "cell_type": "markdown",
   "id": "e4f3656b-e412-459b-a20f-dab2c4ba78eb",
   "metadata": {},
   "source": [
    "## Cosine similarity, most similar words"
   ]
  },
  {
   "cell_type": "markdown",
   "id": "db709b4f-a8b3-4983-9228-75b334fe5c17",
   "metadata": {},
   "source": [
    "### Words are represented as  vectors (= numpy arrays)"
   ]
  },
  {
   "cell_type": "code",
   "execution_count": 5,
   "id": "35ff5032-4228-41e5-9426-fb46a5a7bbff",
   "metadata": {},
   "outputs": [
    {
     "data": {
      "text/plain": [
       "array([ 0.50451 ,  0.68607 , -0.59517 , -0.022801,  0.60046 , -0.13498 ,\n",
       "       -0.08813 ,  0.47377 , -0.61798 , -0.31012 , -0.076666,  1.493   ,\n",
       "       -0.034189, -0.98173 ,  0.68229 ,  0.81722 , -0.51874 , -0.31503 ,\n",
       "       -0.55809 ,  0.66421 ,  0.1961  , -0.13495 , -0.11476 , -0.30344 ,\n",
       "        0.41177 , -2.223   , -1.0756  , -1.0783  , -0.34354 ,  0.33505 ,\n",
       "        1.9927  , -0.04234 , -0.64319 ,  0.71125 ,  0.49159 ,  0.16754 ,\n",
       "        0.34344 , -0.25663 , -0.8523  ,  0.1661  ,  0.40102 ,  1.1685  ,\n",
       "       -1.0137  , -0.21585 , -0.15155 ,  0.78321 , -0.91241 , -1.6106  ,\n",
       "       -0.64426 , -0.51042 ], dtype=float32)"
      ]
     },
     "execution_count": 5,
     "metadata": {},
     "output_type": "execute_result"
    }
   ],
   "source": [
    "king = embedd['king']; king"
   ]
  },
  {
   "cell_type": "code",
   "execution_count": 6,
   "id": "571be666-46af-431c-ab81-fb1ac8619b08",
   "metadata": {},
   "outputs": [
    {
     "data": {
      "text/plain": [
       "array([ 0.37854  ,  1.8233   , -1.2648   , -0.1043   ,  0.35829  ,\n",
       "        0.60029  , -0.17538  ,  0.83767  , -0.056798 , -0.75795  ,\n",
       "        0.22681  ,  0.98587  ,  0.60587  , -0.31419  ,  0.28877  ,\n",
       "        0.56013  , -0.77456  ,  0.071421 , -0.5741   ,  0.21342  ,\n",
       "        0.57674  ,  0.3868   , -0.12574  ,  0.28012  ,  0.28135  ,\n",
       "       -1.8053   , -1.0421   , -0.19255  , -0.55375  , -0.054526 ,\n",
       "        1.5574   ,  0.39296  , -0.2475   ,  0.34251  ,  0.45365  ,\n",
       "        0.16237  ,  0.52464  , -0.070272 , -0.83744  , -1.0326   ,\n",
       "        0.45946  ,  0.25302  , -0.17837  , -0.73398  , -0.20025  ,\n",
       "        0.2347   , -0.56095  , -2.2839   ,  0.0092753, -0.60284  ],\n",
       "      dtype=float32)"
      ]
     },
     "execution_count": 6,
     "metadata": {},
     "output_type": "execute_result"
    }
   ],
   "source": [
    "queen = embedd['queen']; queen"
   ]
  },
  {
   "cell_type": "markdown",
   "id": "ff43761c-ce3d-454e-8127-fe0985345c78",
   "metadata": {},
   "source": [
    "### What is most similar to king?\n"
   ]
  },
  {
   "cell_type": "code",
   "execution_count": 8,
   "id": "6f287684-191f-4c2b-8b3b-d6d923952992",
   "metadata": {
    "scrolled": true
   },
   "outputs": [
    {
     "data": {
      "text/plain": [
       "[('prince', 0.8236179351806641),\n",
       " ('queen', 0.7839043140411377),\n",
       " ('emperor', 0.7736247777938843),\n",
       " ('son', 0.766719400882721),\n",
       " ('uncle', 0.7627150416374207),\n",
       " ('kingdom', 0.7542160749435425),\n",
       " ('throne', 0.7539913654327393),\n",
       " ('brother', 0.7492411136627197),\n",
       " ('ruler', 0.7434253692626953),\n",
       " ('grandson', 0.7404318451881409)]"
      ]
     },
     "execution_count": 8,
     "metadata": {},
     "output_type": "execute_result"
    }
   ],
   "source": [
    "simtoking =embedd.most_similar(positive=['king'])\n",
    "simtoking"
   ]
  },
  {
   "cell_type": "code",
   "execution_count": 10,
   "id": "b19acd15-d3d9-4ff7-bcfd-885362ad5bd7",
   "metadata": {},
   "outputs": [
    {
     "data": {
      "text/plain": [
       "'prince'"
      ]
     },
     "execution_count": 10,
     "metadata": {},
     "output_type": "execute_result"
    }
   ],
   "source": [
    "simtoking[0][0]"
   ]
  },
  {
   "cell_type": "markdown",
   "id": "bc973c6a-c56c-4f75-b325-e59a9378af0d",
   "metadata": {},
   "source": [
    "### How are they similar?"
   ]
  },
  {
   "cell_type": "code",
   "execution_count": 12,
   "id": "909b0281-e6e2-4cfd-a582-74ed7ec5de17",
   "metadata": {},
   "outputs": [
    {
     "data": {
      "text/plain": [
       "(array([ 0.50451 ,  0.68607 , -0.59517 , -0.022801,  0.60046 , -0.13498 ,\n",
       "        -0.08813 ,  0.47377 , -0.61798 , -0.31012 , -0.076666,  1.493   ,\n",
       "        -0.034189, -0.98173 ,  0.68229 ,  0.81722 , -0.51874 , -0.31503 ,\n",
       "        -0.55809 ,  0.66421 ,  0.1961  , -0.13495 , -0.11476 , -0.30344 ,\n",
       "         0.41177 , -2.223   , -1.0756  , -1.0783  , -0.34354 ,  0.33505 ,\n",
       "         1.9927  , -0.04234 , -0.64319 ,  0.71125 ,  0.49159 ,  0.16754 ,\n",
       "         0.34344 , -0.25663 , -0.8523  ,  0.1661  ,  0.40102 ,  1.1685  ,\n",
       "        -1.0137  , -0.21585 , -0.15155 ,  0.78321 , -0.91241 , -1.6106  ,\n",
       "        -0.64426 , -0.51042 ], dtype=float32),\n",
       " array([ 9.8846e-01,  1.4535e+00, -5.3081e-01,  1.0509e-01,  8.4058e-01,\n",
       "         1.4018e-01,  6.6562e-02,  1.3341e+00, -7.5813e-01, -3.5223e-01,\n",
       "         1.6588e-01,  1.0016e+00,  1.9623e-02, -6.6392e-01,  9.2825e-02,\n",
       "         2.5132e-01, -1.6274e-01, -1.1954e-01, -5.0072e-01,  6.7374e-01,\n",
       "         6.6886e-01, -3.8679e-02,  2.0223e-01, -1.5211e-01,  1.2169e-01,\n",
       "        -1.8324e+00, -8.5664e-01, -6.2454e-01, -3.1896e-01,  6.0221e-01,\n",
       "         1.4110e+00,  5.0157e-01, -1.1413e-01,  5.1808e-01,  8.4700e-01,\n",
       "         1.7618e-01, -3.5265e-02,  5.6405e-01, -3.8524e-01,  6.0270e-01,\n",
       "         3.4331e-01,  1.1836e+00, -3.7197e-01, -1.1069e+00,  1.2758e-04,\n",
       "        -1.8202e-01, -1.3696e+00, -1.4970e+00,  4.0618e-01, -4.2445e-01],\n",
       "       dtype=float32))"
      ]
     },
     "execution_count": 12,
     "metadata": {},
     "output_type": "execute_result"
    }
   ],
   "source": [
    "king, embedd[simtoking[0][0]]"
   ]
  },
  {
   "cell_type": "code",
   "execution_count": 8,
   "id": "370f169a-5b6e-4a13-b78b-e714a7c0d42b",
   "metadata": {},
   "outputs": [
    {
     "data": {
      "text/plain": [
       "[('queen', 0.8523604273796082),\n",
       " ('throne', 0.7664334177970886),\n",
       " ('prince', 0.7592144012451172),\n",
       " ('daughter', 0.7473883628845215),\n",
       " ('elizabeth', 0.7460219860076904),\n",
       " ('princess', 0.7424570322036743),\n",
       " ('kingdom', 0.7337412238121033),\n",
       " ('monarch', 0.721449077129364),\n",
       " ('eldest', 0.7184861898422241),\n",
       " ('widow', 0.7099431157112122)]"
      ]
     },
     "execution_count": 8,
     "metadata": {},
     "output_type": "execute_result"
    }
   ],
   "source": [
    "# What is the female counterpart of a king?\n",
    "embedd.most_similar(positive=['king', 'woman'], \n",
    "                             negative=['man'])"
   ]
  },
  {
   "cell_type": "code",
   "execution_count": 9,
   "id": "c3581f2d-9cbc-47ed-9c58-9c07b681cdb8",
   "metadata": {},
   "outputs": [
    {
     "data": {
      "text/plain": [
       "[('queen', 0.7633836269378662),\n",
       " ('princess', 0.6342118382453918),\n",
       " ('queens', 0.5744965076446533),\n",
       " ('monarch', 0.5577755570411682),\n",
       " ('goddess', 0.5278830528259277),\n",
       " ('princesses', 0.5202734470367432),\n",
       " ('empress', 0.5119601488113403),\n",
       " ('queendom', 0.5091063380241394),\n",
       " ('Queen_Bee', 0.4829074442386627),\n",
       " ('prince', 0.47732123732566833)]"
      ]
     },
     "execution_count": 9,
     "metadata": {},
     "output_type": "execute_result"
    }
   ],
   "source": [
    "# What is the female counterpart of a king?\n",
    "embedd.most_similar(positive=['king', 'she'], \n",
    "                             negative=['he'])"
   ]
  },
  {
   "cell_type": "code",
   "execution_count": 9,
   "id": "ff59db72-6034-4159-b1c8-086c8d429ae6",
   "metadata": {},
   "outputs": [
    {
     "data": {
      "text/plain": [
       "[('nurse', 0.8434410095214844),\n",
       " ('mother', 0.7978049516677856),\n",
       " ('child', 0.7920326590538025),\n",
       " ('woman', 0.7831878066062927),\n",
       " ('pregnant', 0.7726936936378479),\n",
       " ('girl', 0.7672077417373657),\n",
       " ('her', 0.7481821775436401),\n",
       " ('patient', 0.7464373707771301),\n",
       " ('boy', 0.7313278913497925),\n",
       " ('learns', 0.7268911600112915)]"
      ]
     },
     "execution_count": 9,
     "metadata": {},
     "output_type": "execute_result"
    }
   ],
   "source": [
    "# When we think of a female doctor, we think also of\n",
    "embedd.most_similar(positive=['doctor', 'she'], \n",
    "                             negative=['he'])"
   ]
  },
  {
   "cell_type": "code",
   "execution_count": 14,
   "id": "71a02211-64ae-4808-a3fb-79185edf941c",
   "metadata": {},
   "outputs": [],
   "source": [
    "# Cosine similarity: measures cosine of angle between vectors, scale invariant, (-1,1)\n",
    "# Ortogonal projection length: project onto second vector, measure length, depends on length of first vector, in R\n",
    "def cos_sim(u, v):\n",
    "    return np.inner(u,v)/math.sqrt(np.inner(u,u)*np.inner(v,v))\n",
    "\n",
    "def ort_proj_len(u, v):\n",
    "    return np.inner(u,v)/math.sqrt(np.inner(v,v))"
   ]
  },
  {
   "cell_type": "markdown",
   "id": "62059d4d-abc1-4908-9626-8097056be80f",
   "metadata": {},
   "source": [
    "### What does in mean for words to be \"similar\"?\n",
    "Use cosine similarity of their vector embeddings"
   ]
  },
  {
   "cell_type": "code",
   "execution_count": 17,
   "id": "18110e94-c748-493b-8126-157102544e3e",
   "metadata": {},
   "outputs": [
    {
     "data": {
      "text/plain": [
       "(array([ 0.50451 ,  0.68607 , -0.59517 , -0.022801,  0.60046 , -0.13498 ,\n",
       "        -0.08813 ,  0.47377 , -0.61798 , -0.31012 , -0.076666,  1.493   ,\n",
       "        -0.034189, -0.98173 ,  0.68229 ,  0.81722 , -0.51874 , -0.31503 ,\n",
       "        -0.55809 ,  0.66421 ,  0.1961  , -0.13495 , -0.11476 , -0.30344 ,\n",
       "         0.41177 , -2.223   , -1.0756  , -1.0783  , -0.34354 ,  0.33505 ,\n",
       "         1.9927  , -0.04234 , -0.64319 ,  0.71125 ,  0.49159 ,  0.16754 ,\n",
       "         0.34344 , -0.25663 , -0.8523  ,  0.1661  ,  0.40102 ,  1.1685  ,\n",
       "        -1.0137  , -0.21585 , -0.15155 ,  0.78321 , -0.91241 , -1.6106  ,\n",
       "        -0.64426 , -0.51042 ], dtype=float32),\n",
       " array([ 9.8846e-01,  1.4535e+00, -5.3081e-01,  1.0509e-01,  8.4058e-01,\n",
       "         1.4018e-01,  6.6562e-02,  1.3341e+00, -7.5813e-01, -3.5223e-01,\n",
       "         1.6588e-01,  1.0016e+00,  1.9623e-02, -6.6392e-01,  9.2825e-02,\n",
       "         2.5132e-01, -1.6274e-01, -1.1954e-01, -5.0072e-01,  6.7374e-01,\n",
       "         6.6886e-01, -3.8679e-02,  2.0223e-01, -1.5211e-01,  1.2169e-01,\n",
       "        -1.8324e+00, -8.5664e-01, -6.2454e-01, -3.1896e-01,  6.0221e-01,\n",
       "         1.4110e+00,  5.0157e-01, -1.1413e-01,  5.1808e-01,  8.4700e-01,\n",
       "         1.7618e-01, -3.5265e-02,  5.6405e-01, -3.8524e-01,  6.0270e-01,\n",
       "         3.4331e-01,  1.1836e+00, -3.7197e-01, -1.1069e+00,  1.2758e-04,\n",
       "        -1.8202e-01, -1.3696e+00, -1.4970e+00,  4.0618e-01, -4.2445e-01],\n",
       "       dtype=float32),\n",
       " 0.8236180196089881)"
      ]
     },
     "execution_count": 17,
     "metadata": {},
     "output_type": "execute_result"
    }
   ],
   "source": [
    "king, embedd[simtoking[0][0]] , cos_sim(king, embedd[simtoking[0][0]])\n"
   ]
  },
  {
   "cell_type": "markdown",
   "id": "838048a7-4d81-42e3-9d68-7e2a746c1e12",
   "metadata": {},
   "source": [
    "### Words similar to 'doctor'\n",
    "Similarity measured with cosine similarity and with length of orthogonal projection\n",
    "Cosine similarity: normalize both vectors, measure angle\n",
    "Length of orthogonal projection: length of \"non-doctor\" word matters, large vectors get higher value"
   ]
  },
  {
   "cell_type": "code",
   "execution_count": 31,
   "id": "3bb731af-0ff8-4263-98ac-6b175b2a6def",
   "metadata": {},
   "outputs": [
    {
     "name": "stdout",
     "output_type": "stream",
     "text": [
      "[('nurse', 0.7977497577667236), ('physician', 0.7965211272239685), ('patient', 0.7611691951751709), ('child', 0.7558937668800354), ('teacher', 0.7538284063339233), ('surgeon', 0.747907280921936), ('doctors', 0.7393609285354614), ('father', 0.733410656452179), ('mother', 0.728441059589386), ('she', 0.7281814813613892)]\n",
      "\n",
      "nurse \t\t  0.7977496777647489 \t 3.932998734675048\n",
      "physician \t\t  0.7965211591055051 \t 3.8012398775600005\n",
      "patient \t\t  0.7611691340228203 \t 3.9118394412561894\n",
      "child \t\t  0.755893738561101 \t 4.093095861741297\n",
      "teacher \t\t  0.7538283512557397 \t 3.8555700950495093\n",
      "surgeon \t\t  0.7479071795905597 \t 3.7487204469351427\n",
      "doctors \t\t  0.7393607058950945 \t 4.131572749126903\n",
      "father \t\t  0.7334106401611019 \t 3.894606241780341\n",
      "mother \t\t  0.7284410435938768 \t 4.107167184668689\n",
      "she \t\t  0.7281813557181285 \t 4.110411122219817\n"
     ]
    }
   ],
   "source": [
    "doctor = embedd['doctor']\n",
    "sim = embedd.most_similar(positive=['doctor'], \n",
    "                             negative=[])\n",
    "print(sim)\n",
    "print()\n",
    "for li in sim:\n",
    "    word = li[0]\n",
    "    w = embedd[word]\n",
    "    print(f'{word} \\t\\t  {cos_sim(w,doctor)} \\t {ort_proj_len(w,doctor)}')"
   ]
  },
  {
   "cell_type": "code",
   "execution_count": null,
   "id": "09f0f7cf-b9bb-4e6f-8d05-b7cfc5230b93",
   "metadata": {},
   "outputs": [],
   "source": []
  },
  {
   "cell_type": "code",
   "execution_count": null,
   "id": "78dd772d-dd0e-4a2c-8620-d8d72b515164",
   "metadata": {},
   "outputs": [],
   "source": []
  },
  {
   "cell_type": "markdown",
   "id": "452d8615-b2c9-4dca-8a98-1fcba4b207bf",
   "metadata": {},
   "source": [
    "## Genderdness for words"
   ]
  },
  {
   "cell_type": "markdown",
   "id": "b4580ad7-b476-4cba-b287-9f873096f4d0",
   "metadata": {},
   "source": [
    "See the article \n",
    "[[Lipstick on a Pig: Debiasing Methods Cover up Systematic Gender Biases in Word Embeddings But do not Remove Them][https://arxiv.org/abs/1903.03862v2]]"
   ]
  },
  {
   "cell_type": "code",
   "execution_count": 20,
   "id": "738e206e-3e33-4ad7-9ec2-3d4f2f971dff",
   "metadata": {},
   "outputs": [
    {
     "data": {
      "text/plain": [
       "array([-0.261302  , -0.438481  ,  0.13376004, -0.12281001, -0.00838   ,\n",
       "       -0.64455   , -0.13150996, -0.01198   , -0.73557   ,  0.04754001,\n",
       "        0.04260999,  0.23386998, -0.56951   , -0.24359   , -0.29471004,\n",
       "       -0.152461  ,  0.44637996, -0.08563   , -0.66735   ,  0.20257801,\n",
       "       -0.28133   , -0.71557   , -0.04014999, -0.42204   , -0.63574   ,\n",
       "       -0.11930013,  0.429694  , -0.216301  , -0.08826   ,  0.5115    ,\n",
       "        0.28599977, -0.227249  , -0.25811   , -0.18074998,  0.22733   ,\n",
       "        0.15184401,  0.13196   ,  0.14411998, -0.01708999,  0.62810004,\n",
       "       -0.124465  ,  0.16902   , -0.62446666,  0.53734   , -0.379254  ,\n",
       "        0.3373    , -0.38487598,  0.92383   ,  0.019064  , -0.435641  ],\n",
       "      dtype=float32)"
      ]
     },
     "execution_count": 20,
     "metadata": {},
     "output_type": "execute_result"
    }
   ],
   "source": [
    "# project on this axis for gender bias\n",
    "\n",
    "he = embedd['he']; she = embedd['she'] ; gbias = he - she; gbias"
   ]
  },
  {
   "cell_type": "code",
   "execution_count": 21,
   "id": "c05a613f-495a-4ba5-b44e-5460aec5c607",
   "metadata": {},
   "outputs": [],
   "source": [
    "def genderness(word):\n",
    "    return cos_sim(embedd[word], embedd['he'] - embedd['she'])\n",
    "\n",
    "def gend_op(word):\n",
    "    return ort_proj_len(embedd[word], embedd['he'] - embedd['she'])"
   ]
  },
  {
   "cell_type": "code",
   "execution_count": 22,
   "id": "b0a37cb8-7d0b-4482-a029-b8055d85d772",
   "metadata": {},
   "outputs": [
    {
     "data": {
      "text/plain": [
       "[(0.17669018921772683, 0.9661949630816717),\n",
       " (-0.0759546247262612, -0.39834324183723074),\n",
       " (0.11793255256397168, 0.633826275373558),\n",
       " (-0.11279480255299033, -0.5335970906869317)]"
      ]
     },
     "execution_count": 22,
     "metadata": {},
     "output_type": "execute_result"
    }
   ],
   "source": [
    "# Check: these words should be masculine\n",
    "[(genderness(_), gend_op(_)) for _ in ['he', 'man', 'king', 'beard']]"
   ]
  },
  {
   "cell_type": "code",
   "execution_count": null,
   "id": "960b3223-7b0d-4127-bdf7-2e38a5eb3628",
   "metadata": {},
   "outputs": [],
   "source": []
  },
  {
   "cell_type": "code",
   "execution_count": 23,
   "id": "08ee0edc-47f8-4446-9a95-393ae1dc8e55",
   "metadata": {},
   "outputs": [
    {
     "data": {
      "text/plain": [
       "[(-0.3014023502580305, -1.70134480843387),\n",
       " (-0.4019534575008965, -2.240915681386716),\n",
       " (-0.3114308307117062, -1.6171853326590253),\n",
       " (-0.30173915446792415, -1.5756604515556956)]"
      ]
     },
     "execution_count": 23,
     "metadata": {},
     "output_type": "execute_result"
    }
   ],
   "source": [
    "# Check: these words should be feminine\n",
    "[(genderness(_), gend_op(_)) for _ in ['she', 'woman', 'queen', 'pink']]"
   ]
  },
  {
   "cell_type": "code",
   "execution_count": 24,
   "id": "6bcf918c-08ed-4ddb-951a-1849f94c7c3a",
   "metadata": {},
   "outputs": [
    {
     "data": {
      "text/plain": [
       "[('the', 0.2157683615819542, 1.071899917469624),\n",
       " ('of', 0.1376989176026331, 0.6824493102543815),\n",
       " ('to', 0.12531179022375147, 0.6211543492427153),\n",
       " ('and', 0.05365547233778015, 0.25033912729946134),\n",
       " ('in', 0.1617873422279208, 0.8068612414549244)]"
      ]
     },
     "execution_count": 24,
     "metadata": {},
     "output_type": "execute_result"
    }
   ],
   "source": [
    "# make a list of all words, and how gendered they are, to be sorted\n",
    "# this command may take some time\n",
    "N = 5\n",
    "glist = [ (word, genderness(word), gend_op(word)) for index, word in enumerate(embedd.index_to_key)]\n",
    "glist[:N]"
   ]
  },
  {
   "cell_type": "code",
   "execution_count": 25,
   "id": "f55386cd-bc7c-4b0b-969d-0add22230aab",
   "metadata": {},
   "outputs": [],
   "source": [
    "# Sort words after gender bias\n",
    "# May take some time\n",
    "sglist = sorted(glist, key=lambda foo: foo[1])\n",
    "sg_op_list = sorted(glist, key=lambda foo: foo[2])"
   ]
  },
  {
   "cell_type": "code",
   "execution_count": 26,
   "id": "0b68664c-f280-45b0-9657-6953a0d02eb1",
   "metadata": {},
   "outputs": [
    {
     "data": {
      "text/plain": [
       "[('mulleavy', -0.7006985315544474, -4.042454504380837),\n",
       " ('mandrell', -0.675704004621733, -3.4346875497864673),\n",
       " ('monheit', -0.668710296489365, -3.083038125097354),\n",
       " ('mehretu', -0.6631638297738612, -3.0873904617529884),\n",
       " ('wiedlin', -0.648022452907506, -3.248100510637829),\n",
       " ('streb', -0.6446613680196839, -2.7269089111472393),\n",
       " ('medrich', -0.6427991526776876, -3.2979561087404683),\n",
       " ('mcgarrigle', -0.6426385625417351, -3.7111149115522397),\n",
       " ('herdahl', -0.6382342004626715, -2.3974880788600252),\n",
       " ('fozzard', -0.6321265907192541, -3.1869675914028317),\n",
       " ('miscarries', -0.6317290736688587, -2.629320614158419),\n",
       " ('pavlova', -0.6313723975012049, -2.6285374867192726),\n",
       " ('arkhipova', -0.6232624127449452, -2.4236637694093317),\n",
       " ('schorpen', -0.6220365711602908, -2.695603834186999),\n",
       " ('kuppinger', -0.6218319863919527, -3.240502333297415),\n",
       " ('voluptuous', -0.6156876496819695, -2.348231132616254),\n",
       " ('lactating', -0.6144926237812198, -3.3288250225070275),\n",
       " ('siberry', -0.6115365967594316, -2.7649839916461216),\n",
       " ('anle', -0.6105483085820074, -2.9181124874434223),\n",
       " ('ivanovna', -0.6104895752796777, -2.7293496374777813)]"
      ]
     },
     "execution_count": 26,
     "metadata": {},
     "output_type": "execute_result"
    }
   ],
   "source": [
    "# most female words\n",
    "N = 20\n",
    "sglist[:N]\n"
   ]
  },
  {
   "cell_type": "code",
   "execution_count": 27,
   "id": "36a4c009-66e2-4b4c-a2e4-2b7daef887a0",
   "metadata": {},
   "outputs": [
    {
     "data": {
      "text/plain": [
       "[('popmusic', -0.49510414559170357, -4.06915233947471),\n",
       " ('mulleavy', -0.7006985315544474, -4.042454504380837),\n",
       " ('lebling', -0.40524530761444155, -3.9547574590965864),\n",
       " ('wangsness', -0.5331704095035583, -3.945639503283764),\n",
       " ('nipps', -0.5046506120294154, -3.773189514272611),\n",
       " ('pitzl', -0.5752142347926938, -3.730396542310276),\n",
       " ('mcgarrigle', -0.6426385625417351, -3.7111149115522397),\n",
       " ('cartner', -0.5119706899800055, -3.6621312823261487),\n",
       " ('kudwa', -0.5552813606774721, -3.574500019031765),\n",
       " ('quindlen', -0.598297967306908, -3.5624426093021837),\n",
       " ('gazeau', -0.34745484134384186, -3.5401875611000118),\n",
       " ('hollaback', -0.6072176443341113, -3.470551962163934),\n",
       " ('snout-vent', -0.5044823515312432, -3.450909960504889),\n",
       " ('baraboo', -0.5092661497118751, -3.450586055706959),\n",
       " ('bonesetter', -0.5160993686138489, -3.4423629494628116),\n",
       " ('udwin', -0.4850732203915637, -3.4360335780030327),\n",
       " ('vys', -0.4087709693055667, -3.4355384255249604),\n",
       " ('mandrell', -0.675704004621733, -3.4346875497864673),\n",
       " ('fotyga', -0.5556805537674511, -3.419116881282866),\n",
       " ('crites', -0.4143602925434559, -3.3945737638679407)]"
      ]
     },
     "execution_count": 27,
     "metadata": {},
     "output_type": "execute_result"
    }
   ],
   "source": [
    "# sort after ortproj\n",
    "sg_op_list[:N]"
   ]
  },
  {
   "cell_type": "code",
   "execution_count": 28,
   "id": "b99ab849-38cb-4335-b5ac-d446dcd5f5bb",
   "metadata": {},
   "outputs": [
    {
     "data": {
      "text/plain": [
       "[('umayyads', 0.5220122700441521, 2.283794992210751),\n",
       " ('seahawks', 0.522870468539588, 2.5608749899683803),\n",
       " ('ravens', 0.5279268148997815, 2.665654974501536),\n",
       " ('chiefs', 0.5319839976856588, 2.455819185841843),\n",
       " ('vikings', 0.5349593947721312, 2.5815947079777133),\n",
       " ('meraj', 0.5419924026601426, 2.990865938192691),\n",
       " ('buccaneers', 0.543431804296054, 2.6506532844592),\n",
       " ('kff', 0.5446281048742254, 2.73526358137112),\n",
       " ('umps', 0.5454923521640411, 2.3593784985675446),\n",
       " ('colonels', 0.5488922891710101, 2.6188053273271517),\n",
       " ('patriots', 0.5491432218893945, 2.767371806376118),\n",
       " ('caliphs', 0.549171601932912, 3.099367431549309),\n",
       " ('umayyad', 0.5581718293917093, 3.136136346287442),\n",
       " ('rashidun', 0.5610546569577152, 3.25205708282182),\n",
       " ('mamluk', 0.5667197965065496, 3.020322147975783),\n",
       " ('kassam', 0.5769511918573533, 3.296885721361877),\n",
       " ('sacked', 0.6105438352971417, 2.815554611377746),\n",
       " ('achaean', 0.6114421093899526, 2.713000489175622),\n",
       " ('gowon', 0.6116083962297205, 3.2593649613808657),\n",
       " ('sacking', 0.6216723391079291, 2.362778605168778)]"
      ]
     },
     "execution_count": 28,
     "metadata": {},
     "output_type": "execute_result"
    }
   ],
   "source": [
    "# male words\n",
    "sglist[-N:]"
   ]
  },
  {
   "cell_type": "code",
   "execution_count": 29,
   "id": "f14b22af-9229-40f9-8056-e9764c1a56b0",
   "metadata": {},
   "outputs": [
    {
     "data": {
      "text/plain": [
       "[('bailable', 0.399695887917032, 3.052891025665255),\n",
       " ('voreqe', 0.41849762874741236, 3.061888142822779),\n",
       " ('finex', 0.3704641876444123, 3.0632445388529645),\n",
       " ('gyude', 0.3942741461696445, 3.0717032447238624),\n",
       " ('43-car', 0.4253712188032451, 3.0720014087431493),\n",
       " ('dála', 0.38262952550702684, 3.0738983611248476),\n",
       " ('caliphs', 0.549171601932912, 3.099367431549309),\n",
       " ('linescores', 0.36195155388770894, 3.1076409468182997),\n",
       " ('ibda', 0.34062189176512414, 3.111550685085592),\n",
       " ('umayyad', 0.5581718293917093, 3.136136346287442),\n",
       " ('mickunas', 0.3509244046459706, 3.143510364347169),\n",
       " ('navier', 0.4492541167225026, 3.144293313030908),\n",
       " ('formio', 0.47820421078111597, 3.1753545676156647),\n",
       " ('14-party', 0.40450147696164324, 3.1920095664196224),\n",
       " ('esmat', 0.4076997318421923, 3.2340471180309347),\n",
       " ('rashidun', 0.5610546569577152, 3.25205708282182),\n",
       " ('gowon', 0.6116083962297205, 3.2593649613808657),\n",
       " ('dakh', 0.3650069204144095, 3.2737501240236093),\n",
       " ('kassam', 0.5769511918573533, 3.296885721361877),\n",
       " ('kosdaq', 0.3954449271970155, 3.5440118542826404)]"
      ]
     },
     "execution_count": 29,
     "metadata": {},
     "output_type": "execute_result"
    }
   ],
   "source": [
    "# even manlier words?\n",
    "sg_op_list[-N:]"
   ]
  },
  {
   "cell_type": "markdown",
   "id": "cf214860-7f60-4f08-86bc-81df735a2ec2",
   "metadata": {},
   "source": []
  },
  {
   "cell_type": "code",
   "execution_count": 33,
   "id": "fad8ef57-560c-4e01-aea5-3909954fa237",
   "metadata": {},
   "outputs": [
    {
     "data": {
      "image/png": "[encoded data removed]",
      "text/plain": [
       "<Figure size 640x480 with 1 Axes>"
      ]
     },
     "metadata": {},
     "output_type": "display_data"
    }
   ],
   "source": [
    "\n",
    "N = len(embedd)\n",
    " \n",
    "x1 = []\n",
    "x2 = []\n",
    "y1 = []\n",
    "y2 = []\n",
    "for index, word in enumerate(embedd.index_to_key):\n",
    "    if index == N:\n",
    "        break\n",
    "    s= embedd[word]\n",
    "    wfreq = embedd.get_vecattr(word, \"count\")/NWORDS  # returns count of \"my-word\"\n",
    "    wlen = len(word)\n",
    "    x1.append(wlen)\n",
    "    x2.append(wfreq)\n",
    "    cossim = genderness(word)\n",
    "    ortprojlen = gend_op(word)\n",
    "    y1.append(cossim)\n",
    "    y2.append(ortprojlen)\n",
    "\n",
    "import matplotlib.pyplot as plt \n",
    "plt.hist(y1, edgecolor=\"red\", bins=30) \n",
    "plt.title('Distribution of genderness')\n",
    "plt.show() "
   ]
  },
  {
   "cell_type": "code",
   "execution_count": null,
   "id": "570c8c59-78f2-40ed-a1de-cbab88394502",
   "metadata": {},
   "outputs": [],
   "source": []
  },
  {
   "cell_type": "code",
   "execution_count": null,
   "id": "0aafdad9-12ff-43a8-b99c-e09d44130fd3",
   "metadata": {},
   "outputs": [],
   "source": []
  },
  {
   "cell_type": "code",
   "execution_count": null,
   "id": "99e5552d-2913-4ff3-a5b1-41a8eacc23d6",
   "metadata": {},
   "outputs": [],
   "source": []
  },
  {
   "cell_type": "code",
   "execution_count": null,
   "id": "66464fc5-c233-4416-ad42-b62cea148dc8",
   "metadata": {},
   "outputs": [],
   "source": []
  },
  {
   "cell_type": "code",
   "execution_count": 72,
   "id": "0661384c-7007-4600-9ebb-9cbfb1c582b5",
   "metadata": {},
   "outputs": [],
   "source": []
  },
  {
   "cell_type": "code",
   "execution_count": null,
   "id": "1d8e653b-0b70-414e-92ca-186515dda076",
   "metadata": {},
   "outputs": [],
   "source": []
  },
  {
   "cell_type": "code",
   "execution_count": null,
   "id": "9576bc9e-acee-42ae-9afc-5ac2c23ab587",
   "metadata": {},
   "outputs": [],
   "source": []
  },
  {
   "cell_type": "code",
   "execution_count": null,
   "id": "4e04cae6-eef9-4d4a-b902-501c181167df",
   "metadata": {},
   "outputs": [],
   "source": []
  },
  {
   "cell_type": "code",
   "execution_count": 74,
   "id": "8a1aee88-6769-4433-879e-a8720b481d12",
   "metadata": {},
   "outputs": [],
   "source": []
  },
  {
   "cell_type": "code",
   "execution_count": null,
   "id": "fb9269c6-8ef9-43c3-ac6b-32869593e2f5",
   "metadata": {},
   "outputs": [],
   "source": []
  },
  {
   "cell_type": "code",
   "execution_count": null,
   "id": "22dfcf6b-d46a-4013-b339-ad0c6d7260e7",
   "metadata": {},
   "outputs": [],
   "source": [
    "\n"
   ]
  },
  {
   "cell_type": "code",
   "execution_count": null,
   "id": "847e3807-0ae9-493a-aefa-e7f5ce1bbd9e",
   "metadata": {},
   "outputs": [],
   "source": [
    "\n"
   ]
  },
  {
   "cell_type": "code",
   "execution_count": null,
   "id": "98fe1962-fde1-49e7-adca-e5d9247b613b",
   "metadata": {},
   "outputs": [],
   "source": []
  },
  {
   "cell_type": "code",
   "execution_count": null,
   "id": "1c495eea-9ae9-4b78-9d5b-5f510600c85e",
   "metadata": {},
   "outputs": [],
   "source": []
  },
  {
   "cell_type": "code",
   "execution_count": 27,
   "id": "f9e82936-eb4b-4e3a-a9a0-d43d3a153022",
   "metadata": {},
   "outputs": [
    {
     "data": {
      "image/png": "[encoded data removed]",
      "text/plain": [
       "<Figure size 640x480 with 1 Axes>"
      ]
     },
     "metadata": {},
     "output_type": "display_data"
    }
   ],
   "source": []
  },
  {
   "cell_type": "code",
   "execution_count": 28,
   "id": "14e9ea97-5ac4-4c0f-8fdf-575052192505",
   "metadata": {},
   "outputs": [
    {
     "data": {
      "image/png": "[encoded data removed]",
      "text/plain": [
       "<Figure size 640x480 with 1 Axes>"
      ]
     },
     "metadata": {},
     "output_type": "display_data"
    }
   ],
   "source": [
    "import matplotlib.pyplot as plt \n",
    "plt.hist(y2, edgecolor=\"red\", bins=30) \n",
    "plt.title('Distribution of genderness ortogonal proj')\n",
    "plt.show() "
   ]
  },
  {
   "cell_type": "code",
   "execution_count": null,
   "id": "fa30daa7-394e-4bb6-ba96-60b239d06695",
   "metadata": {},
   "outputs": [],
   "source": []
  },
  {
   "cell_type": "code",
   "execution_count": null,
   "id": "2f84c810-d8c1-4313-a563-d5c004f0b9f1",
   "metadata": {},
   "outputs": [],
   "source": []
  }
 ],
 "metadata": {
  "kernelspec": {
   "display_name": "Python 3 (ipykernel)",
   "language": "python",
   "name": "python3"
  },
  "language_info": {
   "codemirror_mode": {
    "name": "ipython",
    "version": 3
   },
   "file_extension": ".py",
   "mimetype": "text/x-python",
   "name": "python",
   "nbconvert_exporter": "python",
   "pygments_lexer": "ipython3",
   "version": "3.11.10"
  }
 },
 "nbformat": 4,
 "nbformat_minor": 5
}
